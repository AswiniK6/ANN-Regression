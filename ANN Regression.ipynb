{
 "cells": [
  {
   "cell_type": "code",
   "execution_count": 1,
   "id": "5d920837",
   "metadata": {},
   "outputs": [],
   "source": [
    "import numpy as np\n",
    "import pandas as pd"
   ]
  },
  {
   "cell_type": "code",
   "execution_count": 2,
   "id": "af8a4799",
   "metadata": {},
   "outputs": [],
   "source": [
    "#pip install tensorflow"
   ]
  },
  {
   "cell_type": "code",
   "execution_count": 3,
   "id": "d48e9889",
   "metadata": {},
   "outputs": [],
   "source": [
    "import tensorflow as tf\n",
    "import keras"
   ]
  },
  {
   "cell_type": "code",
   "execution_count": 4,
   "id": "1f71d4aa",
   "metadata": {},
   "outputs": [],
   "source": [
    "#!pip install -- upgrade keras"
   ]
  },
  {
   "cell_type": "code",
   "execution_count": 5,
   "id": "8838fef7",
   "metadata": {},
   "outputs": [
    {
     "data": {
      "text/plain": [
       "'2.11.0'"
      ]
     },
     "execution_count": 5,
     "metadata": {},
     "output_type": "execute_result"
    }
   ],
   "source": [
    "tf.__version__"
   ]
  },
  {
   "cell_type": "code",
   "execution_count": 6,
   "id": "259f7c99",
   "metadata": {},
   "outputs": [
    {
     "data": {
      "text/plain": [
       "'2.11.0'"
      ]
     },
     "execution_count": 6,
     "metadata": {},
     "output_type": "execute_result"
    }
   ],
   "source": [
    "keras.__version__"
   ]
  },
  {
   "cell_type": "code",
   "execution_count": 7,
   "id": "0d6a1f61",
   "metadata": {},
   "outputs": [
    {
     "data": {
      "text/html": [
       "<div>\n",
       "<style scoped>\n",
       "    .dataframe tbody tr th:only-of-type {\n",
       "        vertical-align: middle;\n",
       "    }\n",
       "\n",
       "    .dataframe tbody tr th {\n",
       "        vertical-align: top;\n",
       "    }\n",
       "\n",
       "    .dataframe thead th {\n",
       "        text-align: right;\n",
       "    }\n",
       "</style>\n",
       "<table border=\"1\" class=\"dataframe\">\n",
       "  <thead>\n",
       "    <tr style=\"text-align: right;\">\n",
       "      <th></th>\n",
       "      <th>Temperature</th>\n",
       "      <th>Pressure</th>\n",
       "      <th>Humidity</th>\n",
       "      <th>Vaccum</th>\n",
       "      <th>Energy</th>\n",
       "    </tr>\n",
       "  </thead>\n",
       "  <tbody>\n",
       "    <tr>\n",
       "      <th>0</th>\n",
       "      <td>14.96</td>\n",
       "      <td>1024.07</td>\n",
       "      <td>73.17</td>\n",
       "      <td>41.76</td>\n",
       "      <td>463.26</td>\n",
       "    </tr>\n",
       "    <tr>\n",
       "      <th>1</th>\n",
       "      <td>25.18</td>\n",
       "      <td>1020.04</td>\n",
       "      <td>59.08</td>\n",
       "      <td>62.96</td>\n",
       "      <td>444.37</td>\n",
       "    </tr>\n",
       "    <tr>\n",
       "      <th>2</th>\n",
       "      <td>5.11</td>\n",
       "      <td>1012.16</td>\n",
       "      <td>92.14</td>\n",
       "      <td>39.40</td>\n",
       "      <td>488.56</td>\n",
       "    </tr>\n",
       "    <tr>\n",
       "      <th>3</th>\n",
       "      <td>20.86</td>\n",
       "      <td>1010.24</td>\n",
       "      <td>76.64</td>\n",
       "      <td>57.32</td>\n",
       "      <td>446.48</td>\n",
       "    </tr>\n",
       "    <tr>\n",
       "      <th>4</th>\n",
       "      <td>10.82</td>\n",
       "      <td>1009.23</td>\n",
       "      <td>96.62</td>\n",
       "      <td>37.50</td>\n",
       "      <td>473.90</td>\n",
       "    </tr>\n",
       "  </tbody>\n",
       "</table>\n",
       "</div>"
      ],
      "text/plain": [
       "   Temperature  Pressure  Humidity  Vaccum  Energy\n",
       "0        14.96   1024.07     73.17   41.76  463.26\n",
       "1        25.18   1020.04     59.08   62.96  444.37\n",
       "2         5.11   1012.16     92.14   39.40  488.56\n",
       "3        20.86   1010.24     76.64   57.32  446.48\n",
       "4        10.82   1009.23     96.62   37.50  473.90"
      ]
     },
     "execution_count": 7,
     "metadata": {},
     "output_type": "execute_result"
    }
   ],
   "source": [
    "df=pd.read_excel('energy.xlsx')\n",
    "df.head()"
   ]
  },
  {
   "cell_type": "code",
   "execution_count": 8,
   "id": "1b45953d",
   "metadata": {},
   "outputs": [
    {
     "name": "stdout",
     "output_type": "stream",
     "text": [
      "<class 'pandas.core.frame.DataFrame'>\n",
      "RangeIndex: 9568 entries, 0 to 9567\n",
      "Data columns (total 5 columns):\n",
      " #   Column       Non-Null Count  Dtype  \n",
      "---  ------       --------------  -----  \n",
      " 0   Temperature  9568 non-null   float64\n",
      " 1   Pressure     9568 non-null   float64\n",
      " 2   Humidity     9568 non-null   float64\n",
      " 3   Vaccum       9568 non-null   float64\n",
      " 4   Energy       9568 non-null   float64\n",
      "dtypes: float64(5)\n",
      "memory usage: 373.9 KB\n"
     ]
    }
   ],
   "source": [
    "df.info()"
   ]
  },
  {
   "cell_type": "code",
   "execution_count": 9,
   "id": "955bb401",
   "metadata": {},
   "outputs": [],
   "source": [
    "X=df.drop(columns='Energy')\n",
    "y=df['Energy']"
   ]
  },
  {
   "cell_type": "code",
   "execution_count": 10,
   "id": "376ce5cc",
   "metadata": {},
   "outputs": [],
   "source": [
    "#Train Test\n",
    "from sklearn.model_selection import train_test_split\n",
    "X_train, X_test, y_train, y_test= train_test_split(X,y,test_size=0.2,random_state=0)"
   ]
  },
  {
   "cell_type": "code",
   "execution_count": 11,
   "id": "4a1b43a6",
   "metadata": {},
   "outputs": [],
   "source": [
    "from sklearn.preprocessing import StandardScaler\n",
    "sc=StandardScaler()\n",
    "X_train=sc.fit_transform(X_train)\n",
    "X_test=sc.transform(X_test)"
   ]
  },
  {
   "cell_type": "markdown",
   "id": "ee0839cc",
   "metadata": {},
   "source": [
    "## Building the ANN"
   ]
  },
  {
   "cell_type": "code",
   "execution_count": 12,
   "id": "2ad50572",
   "metadata": {},
   "outputs": [],
   "source": [
    "from keras.models import Sequential\n",
    "from keras.layers import Dense"
   ]
  },
  {
   "cell_type": "code",
   "execution_count": 13,
   "id": "809d64ad",
   "metadata": {},
   "outputs": [],
   "source": [
    "def ann_model_regressor():\n",
    "    \n",
    "    ##Initialzing the ANN\n",
    "    model=Sequential()\n",
    "    \n",
    "    ##Adding the input layer and the first hidden layer\n",
    "    model.add(Dense(input_dim=4,units=6,activation='relu',kernel_initializer='uniform'))\n",
    "    \n",
    "    \n",
    "    ##Adding the second hidden layer\n",
    "    model.add(Dense(units=6,activation='relu',kernel_initializer='uniform'))\n",
    "    \n",
    "    ##Adding the output layer\n",
    "    model.add(Dense(units=1,activation='relu',kernel_initializer='uniform'))\n",
    "    \n",
    "    ##Compiling the ANN\n",
    "    model.compile(optimizer='adam',loss='mean_squared_error')\n",
    "    \n",
    "    return model\n"
   ]
  },
  {
   "cell_type": "code",
   "execution_count": 14,
   "id": "05b644ad",
   "metadata": {},
   "outputs": [],
   "source": [
    "ann=ann_model_regressor()"
   ]
  },
  {
   "cell_type": "code",
   "execution_count": 15,
   "id": "b7d79f4b",
   "metadata": {},
   "outputs": [
    {
     "name": "stdout",
     "output_type": "stream",
     "text": [
      "Epoch 1/100\n",
      "240/240 [==============================] - 1s 2ms/step - loss: 205987.1094\n",
      "Epoch 2/100\n",
      "240/240 [==============================] - 0s 2ms/step - loss: 195810.3125\n",
      "Epoch 3/100\n",
      "240/240 [==============================] - 0s 2ms/step - loss: 163428.4844\n",
      "Epoch 4/100\n",
      "240/240 [==============================] - 0s 2ms/step - loss: 116361.3594\n",
      "Epoch 5/100\n",
      "240/240 [==============================] - 0s 2ms/step - loss: 78376.6719\n",
      "Epoch 6/100\n",
      "240/240 [==============================] - 0s 2ms/step - loss: 56437.7227\n",
      "Epoch 7/100\n",
      "240/240 [==============================] - 1s 2ms/step - loss: 40258.3711\n",
      "Epoch 8/100\n",
      "240/240 [==============================] - 0s 2ms/step - loss: 26269.4473\n",
      "Epoch 9/100\n",
      "240/240 [==============================] - 0s 2ms/step - loss: 15278.6592\n",
      "Epoch 10/100\n",
      "240/240 [==============================] - 0s 2ms/step - loss: 8095.5908\n",
      "Epoch 11/100\n",
      "240/240 [==============================] - 1s 2ms/step - loss: 4621.5996\n",
      "Epoch 12/100\n",
      "240/240 [==============================] - 0s 2ms/step - loss: 3309.5530\n",
      "Epoch 13/100\n",
      "240/240 [==============================] - 0s 2ms/step - loss: 2667.2847\n",
      "Epoch 14/100\n",
      "240/240 [==============================] - 1s 2ms/step - loss: 2238.6516\n",
      "Epoch 15/100\n",
      "240/240 [==============================] - 1s 2ms/step - loss: 1914.5845\n",
      "Epoch 16/100\n",
      "240/240 [==============================] - 1s 2ms/step - loss: 1653.4982\n",
      "Epoch 17/100\n",
      "240/240 [==============================] - 0s 2ms/step - loss: 1434.0513\n",
      "Epoch 18/100\n",
      "240/240 [==============================] - 1s 2ms/step - loss: 1241.4775\n",
      "Epoch 19/100\n",
      "240/240 [==============================] - 1s 2ms/step - loss: 1068.6649\n",
      "Epoch 20/100\n",
      "240/240 [==============================] - 1s 2ms/step - loss: 914.3029\n",
      "Epoch 21/100\n",
      "240/240 [==============================] - 0s 2ms/step - loss: 775.5229\n",
      "Epoch 22/100\n",
      "240/240 [==============================] - 0s 2ms/step - loss: 651.8170\n",
      "Epoch 23/100\n",
      "240/240 [==============================] - 1s 2ms/step - loss: 541.8918\n",
      "Epoch 24/100\n",
      "240/240 [==============================] - 1s 2ms/step - loss: 446.1925\n",
      "Epoch 25/100\n",
      "240/240 [==============================] - 1s 2ms/step - loss: 364.7203\n",
      "Epoch 26/100\n",
      "240/240 [==============================] - 1s 2ms/step - loss: 293.4158\n",
      "Epoch 27/100\n",
      "240/240 [==============================] - 1s 2ms/step - loss: 232.0455\n",
      "Epoch 28/100\n",
      "240/240 [==============================] - 1s 2ms/step - loss: 181.3850\n",
      "Epoch 29/100\n",
      "240/240 [==============================] - 1s 2ms/step - loss: 138.6704\n",
      "Epoch 30/100\n",
      "240/240 [==============================] - 0s 2ms/step - loss: 103.8580\n",
      "Epoch 31/100\n",
      "240/240 [==============================] - 1s 2ms/step - loss: 76.8036\n",
      "Epoch 32/100\n",
      "240/240 [==============================] - 1s 2ms/step - loss: 57.3024\n",
      "Epoch 33/100\n",
      "240/240 [==============================] - 1s 2ms/step - loss: 44.2182\n",
      "Epoch 34/100\n",
      "240/240 [==============================] - 1s 2ms/step - loss: 35.4991\n",
      "Epoch 35/100\n",
      "240/240 [==============================] - 1s 2ms/step - loss: 30.0486\n",
      "Epoch 36/100\n",
      "240/240 [==============================] - 1s 2ms/step - loss: 26.8457\n",
      "Epoch 37/100\n",
      "240/240 [==============================] - 1s 2ms/step - loss: 24.9293\n",
      "Epoch 38/100\n",
      "240/240 [==============================] - 1s 2ms/step - loss: 23.8566\n",
      "Epoch 39/100\n",
      "240/240 [==============================] - 1s 2ms/step - loss: 23.0334\n",
      "Epoch 40/100\n",
      "240/240 [==============================] - 0s 2ms/step - loss: 22.6170\n",
      "Epoch 41/100\n",
      "240/240 [==============================] - 1s 2ms/step - loss: 22.2709\n",
      "Epoch 42/100\n",
      "240/240 [==============================] - 0s 2ms/step - loss: 22.0906\n",
      "Epoch 43/100\n",
      "240/240 [==============================] - 1s 2ms/step - loss: 21.9261\n",
      "Epoch 44/100\n",
      "240/240 [==============================] - 0s 2ms/step - loss: 21.9401\n",
      "Epoch 45/100\n",
      "240/240 [==============================] - 1s 2ms/step - loss: 21.7756\n",
      "Epoch 46/100\n",
      "240/240 [==============================] - 1s 2ms/step - loss: 21.6689\n",
      "Epoch 47/100\n",
      "240/240 [==============================] - 1s 2ms/step - loss: 21.7061\n",
      "Epoch 48/100\n",
      "240/240 [==============================] - 1s 2ms/step - loss: 21.6381\n",
      "Epoch 49/100\n",
      "240/240 [==============================] - 1s 2ms/step - loss: 21.5460\n",
      "Epoch 50/100\n",
      "240/240 [==============================] - 1s 2ms/step - loss: 21.6406\n",
      "Epoch 51/100\n",
      "240/240 [==============================] - 1s 2ms/step - loss: 21.4780\n",
      "Epoch 52/100\n",
      "240/240 [==============================] - 1s 2ms/step - loss: 21.5893\n",
      "Epoch 53/100\n",
      "240/240 [==============================] - 1s 2ms/step - loss: 21.4678\n",
      "Epoch 54/100\n",
      "240/240 [==============================] - 1s 2ms/step - loss: 21.5793\n",
      "Epoch 55/100\n",
      "240/240 [==============================] - 0s 2ms/step - loss: 21.5148\n",
      "Epoch 56/100\n",
      "240/240 [==============================] - 1s 2ms/step - loss: 21.4468\n",
      "Epoch 57/100\n",
      "240/240 [==============================] - 1s 2ms/step - loss: 21.4213\n",
      "Epoch 58/100\n",
      "240/240 [==============================] - 1s 2ms/step - loss: 21.4057\n",
      "Epoch 59/100\n",
      "240/240 [==============================] - 1s 2ms/step - loss: 21.5431\n",
      "Epoch 60/100\n",
      "240/240 [==============================] - 1s 2ms/step - loss: 21.4781\n",
      "Epoch 61/100\n",
      "240/240 [==============================] - 1s 2ms/step - loss: 21.5396\n",
      "Epoch 62/100\n",
      "240/240 [==============================] - 1s 2ms/step - loss: 21.4173\n",
      "Epoch 63/100\n",
      "240/240 [==============================] - 0s 2ms/step - loss: 21.5555\n",
      "Epoch 64/100\n",
      "240/240 [==============================] - 1s 2ms/step - loss: 21.4644\n",
      "Epoch 65/100\n",
      "240/240 [==============================] - 1s 2ms/step - loss: 21.4500\n",
      "Epoch 66/100\n",
      "240/240 [==============================] - 1s 2ms/step - loss: 21.3919\n",
      "Epoch 67/100\n",
      "240/240 [==============================] - 0s 2ms/step - loss: 21.3378\n",
      "Epoch 68/100\n",
      "240/240 [==============================] - 1s 2ms/step - loss: 21.5075\n",
      "Epoch 69/100\n",
      "240/240 [==============================] - 1s 2ms/step - loss: 21.3417\n",
      "Epoch 70/100\n",
      "240/240 [==============================] - 1s 2ms/step - loss: 21.4800\n",
      "Epoch 71/100\n",
      "240/240 [==============================] - 0s 2ms/step - loss: 21.4345\n",
      "Epoch 72/100\n",
      "240/240 [==============================] - 0s 2ms/step - loss: 21.4027\n",
      "Epoch 73/100\n",
      "240/240 [==============================] - 0s 2ms/step - loss: 21.3247\n",
      "Epoch 74/100\n",
      "240/240 [==============================] - 0s 2ms/step - loss: 21.4532\n",
      "Epoch 75/100\n",
      "240/240 [==============================] - 0s 2ms/step - loss: 21.5687\n",
      "Epoch 76/100\n",
      "240/240 [==============================] - 1s 2ms/step - loss: 21.4684\n",
      "Epoch 77/100\n",
      "240/240 [==============================] - 1s 2ms/step - loss: 21.4022\n",
      "Epoch 78/100\n",
      "240/240 [==============================] - 0s 2ms/step - loss: 21.4234\n",
      "Epoch 79/100\n",
      "240/240 [==============================] - 0s 2ms/step - loss: 21.3896\n",
      "Epoch 80/100\n",
      "240/240 [==============================] - 0s 2ms/step - loss: 21.3783\n",
      "Epoch 81/100\n",
      "240/240 [==============================] - 0s 2ms/step - loss: 21.3806\n",
      "Epoch 82/100\n",
      "240/240 [==============================] - 0s 2ms/step - loss: 21.3773\n",
      "Epoch 83/100\n",
      "240/240 [==============================] - 0s 2ms/step - loss: 21.5402\n",
      "Epoch 84/100\n",
      "240/240 [==============================] - 1s 2ms/step - loss: 21.4579\n",
      "Epoch 85/100\n",
      "240/240 [==============================] - 1s 2ms/step - loss: 21.4220\n",
      "Epoch 86/100\n",
      "240/240 [==============================] - 1s 3ms/step - loss: 21.4263\n",
      "Epoch 87/100\n",
      "240/240 [==============================] - 1s 3ms/step - loss: 21.3407\n",
      "Epoch 88/100\n",
      "240/240 [==============================] - 1s 2ms/step - loss: 21.3633\n",
      "Epoch 89/100\n",
      "240/240 [==============================] - 1s 2ms/step - loss: 21.5608\n",
      "Epoch 90/100\n",
      "240/240 [==============================] - 1s 2ms/step - loss: 21.3019\n",
      "Epoch 91/100\n",
      "240/240 [==============================] - 1s 3ms/step - loss: 21.4408\n",
      "Epoch 92/100\n",
      "240/240 [==============================] - 1s 3ms/step - loss: 21.4403\n",
      "Epoch 93/100\n",
      "240/240 [==============================] - 1s 2ms/step - loss: 21.4167\n",
      "Epoch 94/100\n",
      "240/240 [==============================] - 1s 2ms/step - loss: 21.5430\n",
      "Epoch 95/100\n",
      "240/240 [==============================] - 1s 3ms/step - loss: 21.6320\n",
      "Epoch 96/100\n",
      "240/240 [==============================] - 1s 2ms/step - loss: 21.3870\n",
      "Epoch 97/100\n"
     ]
    },
    {
     "name": "stdout",
     "output_type": "stream",
     "text": [
      "240/240 [==============================] - 1s 2ms/step - loss: 21.2987\n",
      "Epoch 98/100\n",
      "240/240 [==============================] - 0s 2ms/step - loss: 21.5112\n",
      "Epoch 99/100\n",
      "240/240 [==============================] - 0s 2ms/step - loss: 21.3872\n",
      "Epoch 100/100\n",
      "240/240 [==============================] - 0s 2ms/step - loss: 21.3116\n"
     ]
    },
    {
     "data": {
      "text/plain": [
       "<keras.callbacks.History at 0x210e6288f10>"
      ]
     },
     "execution_count": 15,
     "metadata": {},
     "output_type": "execute_result"
    }
   ],
   "source": [
    "## Training the ANN model on Training set\n",
    "ann.fit(X_train,y_train,batch_size=32,epochs=100)"
   ]
  },
  {
   "cell_type": "code",
   "execution_count": 16,
   "id": "5b1e26ba",
   "metadata": {},
   "outputs": [
    {
     "name": "stdout",
     "output_type": "stream",
     "text": [
      "240/240 [==============================] - 0s 1ms/step\n",
      "60/60 [==============================] - 0s 2ms/step\n"
     ]
    }
   ],
   "source": [
    "#predicting the results\n",
    "ypred_train=ann.predict(X_train)\n",
    "ypred_test=ann.predict(X_test)"
   ]
  },
  {
   "cell_type": "code",
   "execution_count": 17,
   "id": "b988ed2f",
   "metadata": {},
   "outputs": [
    {
     "name": "stdout",
     "output_type": "stream",
     "text": [
      "MSE for train data: 21.374501176067895\n",
      "MSE for test data: 19.997549040339784\n"
     ]
    }
   ],
   "source": [
    "#MSE\n",
    "from sklearn.metrics import mean_squared_error\n",
    "print(\"MSE for train data:\",mean_squared_error(y_train,ypred_train))\n",
    "print(\"MSE for test data:\",mean_squared_error(y_test,ypred_test))"
   ]
  },
  {
   "cell_type": "code",
   "execution_count": 18,
   "id": "14795718",
   "metadata": {},
   "outputs": [
    {
     "name": "stdout",
     "output_type": "stream",
     "text": [
      "R2 for train data: 0.9265288339200479\n",
      "R2 for test data: 0.9316294675777089\n"
     ]
    }
   ],
   "source": [
    "#R2\n",
    "from sklearn.metrics import r2_score\n",
    "print(\"R2 for train data:\",r2_score(y_train,ypred_train))\n",
    "print(\"R2 for test data:\",r2_score(y_test,ypred_test))"
   ]
  },
  {
   "cell_type": "code",
   "execution_count": null,
   "id": "65e903c1",
   "metadata": {},
   "outputs": [],
   "source": []
  }
 ],
 "metadata": {
  "kernelspec": {
   "display_name": "Python 3 (ipykernel)",
   "language": "python",
   "name": "python3"
  },
  "language_info": {
   "codemirror_mode": {
    "name": "ipython",
    "version": 3
   },
   "file_extension": ".py",
   "mimetype": "text/x-python",
   "name": "python",
   "nbconvert_exporter": "python",
   "pygments_lexer": "ipython3",
   "version": "3.9.13"
  }
 },
 "nbformat": 4,
 "nbformat_minor": 5
}
